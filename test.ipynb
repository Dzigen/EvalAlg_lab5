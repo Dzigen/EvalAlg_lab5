{
 "cells": [
  {
   "cell_type": "code",
   "execution_count": 1,
   "metadata": {},
   "outputs": [],
   "source": [
    "import os\n",
    "from typing import List\n",
    "from tqdm import tqdm\n",
    "from numba import jit\n",
    "from numba.typed import List as NumbaList\n",
    "import numpy as np\n",
    "import optuna\n",
    "import joblib\n",
    "import matplotlib.pyplot as plt\n",
    "from time import time\n",
    "import random\n",
    "import gc\n",
    "gc.enable()\n",
    "\n",
    "from src.fitness import ChessFitness\n",
    "from src.generator import ChessGenerator\n",
    "from src.selector import ChessSelector\n",
    "from src.mutation import ChessMutation\n",
    "from src.crossover import ChessCrossover"
   ]
  },
  {
   "cell_type": "code",
   "execution_count": 2,
   "metadata": {},
   "outputs": [],
   "source": [
    "#@jit(nopython=True)\n",
    "def evaluate(problem_size: int, pop_size: int, iters: int, trials: int, \n",
    "             cross_pairs: int, cross_opt_prob: float, mut_mode: int, mut_opt_prob: float, \n",
    "             mut_cand_percent: float, ff_age_limit: int = 500, verbose=False) -> List[float]:\n",
    "\n",
    "    best_fitnesses, best_iters, best_solutions = [], [], []\n",
    "    for _ in range(trials):\n",
    "        # Инициализация операторов эволюционного процесса\n",
    "        generator = ChessGenerator(problem_size)\n",
    "        ff = ChessFitness(generator.dim)\n",
    "        selection_oprt = ChessSelector(pop_size, generator.dim)        \n",
    "        crossover_oprt = ChessCrossover(generator.dim, cross_pairs, cross_opt_prob)\n",
    "        mutate_oprt = ChessMutation(generator.dim, mut_mode, mut_opt_prob, \n",
    "                                     mut_cand_percent)\n",
    "        \n",
    "        #print(\"Инициализация популяции\")\n",
    "        base_pop = generator.get_population(pop_size)\n",
    "\n",
    "        #print(\"Старт эволюционного процесса...\")\n",
    "        cur_fitness, flag = [], False\n",
    "        process = tqdm(range(iters)) if verbose else range(iters)\n",
    "        for iter_idx in process:\n",
    "\n",
    "            #          \n",
    "            if ff.result_age > ff_age_limit:\n",
    "                flag = True\n",
    "                break\n",
    "    \n",
    "            #\n",
    "            #print(f\"Мутация {base_pop.shape} {base_pop.dtype} кандидатов...\")\n",
    "            old_pop = mutate_oprt.apply(base_pop)\n",
    "            old_fit = np.array([ff.calculate_fitness(sol) for sol in old_pop], dtype=np.int32)\n",
    "\n",
    "            #print(f\"Кроссовер {old_pop.shape} {old_pop.dtype} кандидатов...\")\n",
    "            new_pop = crossover_oprt.mate(old_pop)\n",
    "            new_fit = np.array([ff.calculate_fitness(sol) for sol in new_pop], dtype=np.int32)\n",
    "\n",
    "            union_pop = np.concatenate((old_pop, new_pop))\n",
    "            union_fit = np.concatenate((old_fit, new_fit))\n",
    "                \n",
    "            #print(f\"Селекция {union_pop.shape} {union_pop.dtype} кандидатов...\")\n",
    "            base_pop = selection_oprt.filter_population(union_pop, union_fit)\n",
    "\n",
    "            if verbose:\n",
    "                process.set_postfix({'ff': ff.best_result})\n",
    "            cur_fitness.append(ff.best_result)\n",
    "            ff.result_age += 1\n",
    "\n",
    "        best_fitnesses.append(cur_fitness)\n",
    "        best_iters.append( iter_idx+1-ff_age_limit if flag else iter_idx+1 )\n",
    "        best_solutions.append(np.copy(ff.best_solution))\n",
    "\n",
    "        #\n",
    "        del ff\n",
    "        del selection_oprt\n",
    "        del crossover_oprt\n",
    "        del mutate_oprt\n",
    "        del generator\n",
    "\n",
    "        del base_pop\n",
    "        del union_pop\n",
    "        del union_fit\n",
    "        del new_pop\n",
    "        del new_fit\n",
    "        del old_pop\n",
    "        del old_fit\n",
    "\n",
    "        gc.collect()\n",
    "     \n",
    "    return best_fitnesses, best_iters, best_solutions"
   ]
  },
  {
   "cell_type": "code",
   "execution_count": 3,
   "metadata": {},
   "outputs": [],
   "source": [
    "def objective(trial):\n",
    "    global PROBLEM_SIZE\n",
    "    global EVALALG_ITERATIONS\n",
    "    global EVALALG_TRIALS\n",
    "    global POPULATION_SIZE\n",
    "    \n",
    "    gc.collect()\n",
    "\n",
    "    cross_pairs = trial.suggest_int('cross_pairs', 160, 240, step=40)\n",
    "    cross_opt_prob = trial.suggest_float(\"cross_opt_prob\", 0, 1, step=0.2)\n",
    "    mut_mode = trial.suggest_categorical('mut_mode', [0, 1])\n",
    "    mut_opt_prob = trial.suggest_float(\"mut_opt_prob\", 0, 1, step=0.2)\n",
    "    mut_cand_percent = trial.suggest_float(\"mut_opt_percent\", 0.6, 1.0, step=0.2)\n",
    "\n",
    "    #\n",
    "    best_fitnesses, best_iters, _ = evaluate(PROBLEM_SIZE, POPULATION_SIZE, EVALALG_ITERATIONS, EVALALG_TRIALS, \n",
    "                                    cross_pairs, cross_opt_prob, mut_mode, mut_opt_prob, mut_cand_percent)\n",
    "\n",
    "    mean_fitness = np.mean(list(map(lambda smpl: smpl[-1], best_fitnesses)))\n",
    "    mean_iters = np.mean(best_iters)\n",
    "\n",
    "    return mean_fitness, mean_iters"
   ]
  },
  {
   "cell_type": "code",
   "execution_count": 4,
   "metadata": {},
   "outputs": [
    {
     "name": "stdout",
     "output_type": "stream",
     "text": [
      "[8, 512, 1024]\n"
     ]
    }
   ],
   "source": [
    "CONFIG = [8] + list(map(lambda v: 8*v, list(range(0, 256, 64))))[1:-1]\n",
    "print(CONFIG)"
   ]
  },
  {
   "cell_type": "code",
   "execution_count": 8,
   "metadata": {},
   "outputs": [
    {
     "name": "stderr",
     "output_type": "stream",
     "text": [
      "[I 2024-05-25 18:17:36,249] A new study created in memory with name: no-name-818bc058-aaa6-47c7-b1d1-f8ce0dc82749\n"
     ]
    },
    {
     "name": "stdout",
     "output_type": "stream",
     "text": [
      "8 2000 2\n"
     ]
    },
    {
     "data": {
      "application/vnd.jupyter.widget-view+json": {
       "model_id": "1d164720c33d485d9a4409f9b6980670",
       "version_major": 2,
       "version_minor": 0
      },
      "text/plain": [
       "  0%|          | 0/10 [00:00<?, ?it/s]"
      ]
     },
     "metadata": {},
     "output_type": "display_data"
    },
    {
     "name": "stdout",
     "output_type": "stream",
     "text": [
      "[I 2024-05-25 18:17:37,834] Trial 0 finished with values: [0.0, 2.5] and parameters: {'cross_pairs': 160, 'cross_opt_prob': 0.0, 'mut_mode': 1, 'mut_opt_prob': 0.8, 'mut_opt_percent': 1.0}. \n",
      "[I 2024-05-25 18:17:39,603] Trial 1 finished with values: [0.0, 2.0] and parameters: {'cross_pairs': 160, 'cross_opt_prob': 0.6000000000000001, 'mut_mode': 1, 'mut_opt_prob': 0.4, 'mut_opt_percent': 0.6}. \n",
      "[I 2024-05-25 18:17:42,582] Trial 2 finished with values: [0.0, 3.0] and parameters: {'cross_pairs': 240, 'cross_opt_prob': 0.4, 'mut_mode': 0, 'mut_opt_prob': 0.2, 'mut_opt_percent': 0.6}. \n",
      "[I 2024-05-25 18:17:45,116] Trial 3 finished with values: [0.0, 2.5] and parameters: {'cross_pairs': 160, 'cross_opt_prob': 1.0, 'mut_mode': 0, 'mut_opt_prob': 0.2, 'mut_opt_percent': 0.8}. \n",
      "[I 2024-05-25 18:17:46,729] Trial 4 finished with values: [0.0, 2.0] and parameters: {'cross_pairs': 160, 'cross_opt_prob': 0.2, 'mut_mode': 1, 'mut_opt_prob': 1.0, 'mut_opt_percent': 0.6}. \n",
      "[I 2024-05-25 18:17:48,677] Trial 5 finished with values: [0.0, 2.5] and parameters: {'cross_pairs': 200, 'cross_opt_prob': 0.4, 'mut_mode': 1, 'mut_opt_prob': 0.6000000000000001, 'mut_opt_percent': 0.6}. \n",
      "[I 2024-05-25 18:17:50,262] Trial 6 finished with values: [0.0, 3.0] and parameters: {'cross_pairs': 160, 'cross_opt_prob': 0.0, 'mut_mode': 1, 'mut_opt_prob': 0.6000000000000001, 'mut_opt_percent': 1.0}. \n",
      "[I 2024-05-25 18:17:53,219] Trial 7 finished with values: [0.0, 3.0] and parameters: {'cross_pairs': 240, 'cross_opt_prob': 0.2, 'mut_mode': 0, 'mut_opt_prob': 0.0, 'mut_opt_percent': 0.6}. \n",
      "[I 2024-05-25 18:17:55,729] Trial 8 finished with values: [0.0, 2.5] and parameters: {'cross_pairs': 160, 'cross_opt_prob': 0.6000000000000001, 'mut_mode': 0, 'mut_opt_prob': 0.4, 'mut_opt_percent': 0.8}. \n"
     ]
    },
    {
     "name": "stderr",
     "output_type": "stream",
     "text": [
      "[I 2024-05-25 18:17:59,307] A new study created in memory with name: no-name-c53f7679-0146-4ac5-aa18-12a8d3d2ed20\n"
     ]
    },
    {
     "name": "stdout",
     "output_type": "stream",
     "text": [
      "[I 2024-05-25 18:17:59,240] Trial 9 finished with values: [0.0, 2.0] and parameters: {'cross_pairs': 240, 'cross_opt_prob': 1.0, 'mut_mode': 0, 'mut_opt_prob': 0.0, 'mut_opt_percent': 0.8}. \n",
      "512 2000 2\n"
     ]
    },
    {
     "data": {
      "application/vnd.jupyter.widget-view+json": {
       "model_id": "8bca99354642458e919e9d52a69e1d9a",
       "version_major": 2,
       "version_minor": 0
      },
      "text/plain": [
       "  0%|          | 0/10 [00:00<?, ?it/s]"
      ]
     },
     "metadata": {},
     "output_type": "display_data"
    },
    {
     "name": "stdout",
     "output_type": "stream",
     "text": [
      "[I 2024-05-25 18:22:25,607] Trial 0 finished with values: [240.5, 575.5] and parameters: {'cross_pairs': 160, 'cross_opt_prob': 0.2, 'mut_mode': 1, 'mut_opt_prob': 0.8, 'mut_opt_percent': 0.6}. \n",
      "[I 2024-05-25 18:25:07,561] Trial 1 finished with values: [261.5, 283.5] and parameters: {'cross_pairs': 160, 'cross_opt_prob': 0.0, 'mut_mode': 1, 'mut_opt_prob': 0.8, 'mut_opt_percent': 1.0}. \n",
      "[I 2024-05-25 18:41:47,643] Trial 2 finished with values: [0.0, 1061.5] and parameters: {'cross_pairs': 240, 'cross_opt_prob': 1.0, 'mut_mode': 0, 'mut_opt_prob': 1.0, 'mut_opt_percent': 0.6}. \n",
      "[I 2024-05-25 18:58:44,925] Trial 3 finished with values: [67.0, 2000.0] and parameters: {'cross_pairs': 200, 'cross_opt_prob': 0.6000000000000001, 'mut_mode': 0, 'mut_opt_prob': 0.0, 'mut_opt_percent': 1.0}. \n",
      "[I 2024-05-25 19:02:07,259] Trial 4 finished with values: [259.0, 390.0] and parameters: {'cross_pairs': 200, 'cross_opt_prob': 0.0, 'mut_mode': 1, 'mut_opt_prob': 0.2, 'mut_opt_percent': 1.0}. \n",
      "[I 2024-05-25 19:05:13,173] Trial 5 finished with values: [259.0, 265.0] and parameters: {'cross_pairs': 160, 'cross_opt_prob': 0.2, 'mut_mode': 1, 'mut_opt_prob': 0.0, 'mut_opt_percent': 0.6}. \n",
      "[I 2024-05-25 19:08:25,979] Trial 6 finished with values: [259.0, 444.5] and parameters: {'cross_pairs': 160, 'cross_opt_prob': 0.0, 'mut_mode': 1, 'mut_opt_prob': 0.4, 'mut_opt_percent': 1.0}. \n",
      "[I 2024-05-25 19:12:31,038] Trial 7 finished with values: [260.0, 462.5] and parameters: {'cross_pairs': 240, 'cross_opt_prob': 0.0, 'mut_mode': 1, 'mut_opt_prob': 0.8, 'mut_opt_percent': 0.8}. \n",
      "[I 2024-05-25 19:29:30,381] Trial 8 finished with values: [0.0, 1018.5] and parameters: {'cross_pairs': 240, 'cross_opt_prob': 1.0, 'mut_mode': 0, 'mut_opt_prob': 1.0, 'mut_opt_percent': 0.8}. \n"
     ]
    },
    {
     "name": "stderr",
     "output_type": "stream",
     "text": [
      "[I 2024-05-25 19:36:37,028] A new study created in memory with name: no-name-b688c0ae-f295-4584-8a4e-5b46f7bf4ac0\n"
     ]
    },
    {
     "name": "stdout",
     "output_type": "stream",
     "text": [
      "[I 2024-05-25 19:36:36,928] Trial 9 finished with values: [237.0, 560.0] and parameters: {'cross_pairs': 200, 'cross_opt_prob': 0.4, 'mut_mode': 1, 'mut_opt_prob': 0.4, 'mut_opt_percent': 1.0}. \n",
      "1024 2000 2\n"
     ]
    },
    {
     "data": {
      "application/vnd.jupyter.widget-view+json": {
       "model_id": "a0849ae999c04a7ebc1ce31e6d1c4e4e",
       "version_major": 2,
       "version_minor": 0
      },
      "text/plain": [
       "  0%|          | 0/10 [00:00<?, ?it/s]"
      ]
     },
     "metadata": {},
     "output_type": "display_data"
    },
    {
     "name": "stdout",
     "output_type": "stream",
     "text": [
      "[I 2024-05-25 20:22:56,690] Trial 0 finished with values: [435.0, 954.5] and parameters: {'cross_pairs': 200, 'cross_opt_prob': 0.6000000000000001, 'mut_mode': 1, 'mut_opt_prob': 1.0, 'mut_opt_percent': 1.0}. \n",
      "[I 2024-05-25 21:41:48,350] Trial 1 finished with values: [264.5, 2000.0] and parameters: {'cross_pairs': 200, 'cross_opt_prob': 1.0, 'mut_mode': 1, 'mut_opt_prob': 0.0, 'mut_opt_percent': 0.6}. \n",
      "[I 2024-05-25 22:07:15,292] Trial 2 finished with values: [462.5, 574.5] and parameters: {'cross_pairs': 160, 'cross_opt_prob': 0.4, 'mut_mode': 1, 'mut_opt_prob': 1.0, 'mut_opt_percent': 1.0}. \n",
      "[I 2024-05-25 23:14:17,539] Trial 3 finished with values: [449.0, 1157.5] and parameters: {'cross_pairs': 200, 'cross_opt_prob': 1.0, 'mut_mode': 1, 'mut_opt_prob': 0.4, 'mut_opt_percent': 0.6}. \n",
      "[I 2024-05-26 00:18:19,090] Trial 4 finished with values: [19.5, 2000.0] and parameters: {'cross_pairs': 240, 'cross_opt_prob': 0.4, 'mut_mode': 0, 'mut_opt_prob': 1.0, 'mut_opt_percent': 0.6}. \n",
      "[I 2024-05-26 01:24:07,187] Trial 5 finished with values: [7.5, 2000.0] and parameters: {'cross_pairs': 200, 'cross_opt_prob': 0.6000000000000001, 'mut_mode': 0, 'mut_opt_prob': 0.4, 'mut_opt_percent': 1.0}. \n",
      "[I 2024-05-26 02:26:01,204] Trial 6 finished with values: [26.5, 2000.0] and parameters: {'cross_pairs': 160, 'cross_opt_prob': 0.6000000000000001, 'mut_mode': 0, 'mut_opt_prob': 0.6000000000000001, 'mut_opt_percent': 0.6}. \n",
      "[I 2024-05-26 03:18:32,183] Trial 7 finished with values: [478.5, 1402.0] and parameters: {'cross_pairs': 200, 'cross_opt_prob': 0.6000000000000001, 'mut_mode': 1, 'mut_opt_prob': 0.2, 'mut_opt_percent': 1.0}. \n",
      "[I 2024-05-26 03:42:25,131] Trial 8 finished with values: [499.5, 428.5] and parameters: {'cross_pairs': 240, 'cross_opt_prob': 0.4, 'mut_mode': 1, 'mut_opt_prob': 0.4, 'mut_opt_percent': 0.8}. \n",
      "[I 2024-05-26 04:40:53,814] Trial 9 finished with values: [203.5, 2000.0] and parameters: {'cross_pairs': 200, 'cross_opt_prob': 0.4, 'mut_mode': 0, 'mut_opt_prob': 0.0, 'mut_opt_percent': 1.0}. \n"
     ]
    }
   ],
   "source": [
    "for i, p_size in enumerate(CONFIG):\n",
    "\n",
    "    OPTUNA_TRIALS = 10\n",
    "    PROBLEM_SIZE = p_size\n",
    "    EVALALG_TRIALS = 2\n",
    "    EVALALG_ITERATIONS = 2000\n",
    "    POPULATION_SIZE = 200\n",
    "\n",
    "    print(PROBLEM_SIZE, EVALALG_ITERATIONS, EVALALG_TRIALS)\n",
    "\n",
    "    study = optuna.create_study(directions=['minimize', 'minimize'])\n",
    "    study.optimize(objective, n_trials=OPTUNA_TRIALS, show_progress_bar=True, gc_after_trial=True)\n",
    "\n",
    "    joblib.dump(study, f\"./logs/problem{PROBLEM_SIZE}_optuna_study.pkl\")"
   ]
  },
  {
   "cell_type": "code",
   "execution_count": 35,
   "metadata": {},
   "outputs": [],
   "source": [
    "BEST_TRIALS = {\n",
    "    8: 2,\n",
    "    512: 1,\n",
    "    1024: 2\n",
    "}\n",
    "\n",
    "INFO = []"
   ]
  },
  {
   "cell_type": "code",
   "execution_count": 40,
   "metadata": {},
   "outputs": [
    {
     "name": "stdout",
     "output_type": "stream",
     "text": [
      "1024 {'cross_pairs': 200, 'cross_opt_prob': 0.6000000000000001, 'mut_mode': 0, 'mut_opt_prob': 0.4, 'mut_opt_percent': 1.0}\n"
     ]
    },
    {
     "name": "stderr",
     "output_type": "stream",
     "text": [
      " 62%|██████▏   | 2486/4000 [48:03<29:16,  1.16s/it, ff=2]   \n",
      " 69%|██████▉   | 2751/4000 [56:52<25:49,  1.24s/it, ff=1]    \n",
      " 81%|████████  | 3222/4000 [1:03:04<15:13,  1.17s/it, ff=1] "
     ]
    },
    {
     "name": "stdout",
     "output_type": "stream",
     "text": [
      "1.3333333333333333 2570.6666666666665 3360.344160795212\n"
     ]
    },
    {
     "name": "stderr",
     "output_type": "stream",
     "text": [
      "\n"
     ]
    }
   ],
   "source": [
    "CONFIG_IDX = 2\n",
    "TRIALS = 3\n",
    "\n",
    "problem_size = CONFIG[CONFIG_IDX]\n",
    "study = joblib.load(f\"./logs/problem{problem_size}_optuna_study.pkl\")\n",
    "PARAMS = study.best_trials[BEST_TRIALS[problem_size]].params\n",
    "\n",
    "print(problem_size, PARAMS)\n",
    "\n",
    "start_t = time()\n",
    "\n",
    "best_fitnesses, best_iters, best_solutions = evaluate(problem_size, 200, 4000, TRIALS, \n",
    "                                                      PARAMS['cross_pairs'], PARAMS['cross_opt_prob'],\n",
    "                                                      PARAMS['mut_mode'], PARAMS['mut_opt_prob'], \n",
    "                                                      PARAMS['mut_opt_percent'], ff_age_limit=250, verbose=True)\n",
    "\n",
    "end_t = time()\n",
    "\n",
    "elapsed_t = (end_t - start_t) / TRIALS\n",
    "\n",
    "mean_fitness = np.mean(list(map(lambda v: v[-1], best_fitnesses)))\n",
    "mean_iters = np.mean(best_iters)\n",
    "print(mean_fitness, mean_iters, elapsed_t)\n",
    "\n",
    "INFO.append([problem_size, elapsed_t, mean_iters, mean_fitness])\n"
   ]
  },
  {
   "cell_type": "code",
   "execution_count": 41,
   "metadata": {},
   "outputs": [
    {
     "data": {
      "text/plain": [
       "[[8, 1.0879216194152832, 3.6666666666666665, 0.0],\n",
       " [512, 484.16797137260437, 1219.3333333333333, 0.0],\n",
       " [1024, 3360.344160795212, 2570.6666666666665, 1.3333333333333333]]"
      ]
     },
     "execution_count": 41,
     "metadata": {},
     "output_type": "execute_result"
    }
   ],
   "source": [
    "INFO"
   ]
  },
  {
   "cell_type": "code",
   "execution_count": 52,
   "metadata": {},
   "outputs": [
    {
     "data": {
      "image/png": "[encoded data removed]",
      "text/plain": [
       "<Figure size 640x480 with 1 Axes>"
      ]
     },
     "metadata": {},
     "output_type": "display_data"
    }
   ],
   "source": [
    "x = list(map(lambda v: v[0],INFO))\n",
    "y = list(map(lambda v: v[1],INFO))\n",
    "plt.plot(x,y, marker='o')\n",
    "for x_i, y_i in zip(x,y):\n",
    "    plt.text(x_i - 50, y_i + 50, str(round(y_i, 2)))\n",
    "plt.xlabel('problem_size')\n",
    "plt.ylabel('elapsed_time (seconds)')\n",
    "plt.grid()\n",
    "plt.savefig(\"fit_time_compare.jpeg\")\n",
    "\n",
    "plt.show()\n",
    "\n"
   ]
  },
  {
   "cell_type": "code",
   "execution_count": null,
   "metadata": {},
   "outputs": [],
   "source": [
    "x = list(map(lambda v: v[0],INFO))\n",
    "y = list(map(lambda v: v[-1],INFO))\n",
    "plt.plot(x,y, maeker='o')\n",
    "plt.xlabel('problem_size')\n",
    "plt.ylabel('fitness-value')\n",
    "plt.grid()\n",
    "plt.show()"
   ]
  },
  {
   "cell_type": "code",
   "execution_count": 19,
   "metadata": {},
   "outputs": [
    {
     "name": "stderr",
     "output_type": "stream",
     "text": [
      " 13%|█▎        | 501/4000 [00:02<00:14, 235.24it/s, ff=0]\n",
      " 13%|█▎        | 501/4000 [00:02<00:14, 242.18it/s, ff=0]\n",
      " 13%|█▎        | 502/4000 [00:02<00:14, 245.17it/s, ff=0]\n",
      " 13%|█▎        | 501/4000 [00:02<00:14, 247.62it/s, ff=0]\n",
      " 13%|█▎        | 501/4000 [00:02<00:14, 243.87it/s, ff=0]\n",
      " 13%|█▎        | 501/4000 [00:02<00:14, 242.08it/s, ff=0]\n",
      " 13%|█▎        | 501/4000 [00:02<00:14, 236.99it/s, ff=0]\n",
      " 13%|█▎        | 502/4000 [00:02<00:14, 240.72it/s, ff=0]\n",
      " 13%|█▎        | 501/4000 [00:02<00:14, 239.73it/s, ff=0]\n",
      " 13%|█▎        | 501/4000 [00:02<00:14, 245.94it/s, ff=0]\n"
     ]
    }
   ],
   "source": [
    "\n",
    "best_fitnesses, best_iters, best_solutions = evaluate(8, 200, 4000, 10, \n",
    "                                                      240, 0.5, 0, 0.5, 1.0, verbose=True)"
   ]
  },
  {
   "cell_type": "code",
   "execution_count": null,
   "metadata": {},
   "outputs": [],
   "source": []
  }
 ],
 "metadata": {
  "kernelspec": {
   "display_name": "base",
   "language": "python",
   "name": "python3"
  },
  "language_info": {
   "codemirror_mode": {
    "name": "ipython",
    "version": 3
   },
   "file_extension": ".py",
   "mimetype": "text/x-python",
   "name": "python",
   "nbconvert_exporter": "python",
   "pygments_lexer": "ipython3",
   "version": "3.11.4"
  }
 },
 "nbformat": 4,
 "nbformat_minor": 2
}
